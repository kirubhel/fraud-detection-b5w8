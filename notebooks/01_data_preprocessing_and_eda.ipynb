{
 "cells": [
  {
   "cell_type": "code",
   "execution_count": 1,
   "id": "b338f816",
   "metadata": {},
   "outputs": [],
   "source": [
    "# 🛠️ Data Preprocessing & EDA - B5W8 Fraud Detection\n",
    "\n",
    "# This notebook covers Task 1 of the B5W8 challenge, focusing on:\n",
    "# - Data loading and cleaning\n",
    "# - Feature engineering\n",
    "# - Exploratory Data Analysis (EDA)\n",
    "# - Class imbalance handling strategy\n"
   ]
  },
  {
   "cell_type": "markdown",
   "id": "5eb36eea",
   "metadata": {},
   "source": [
    "# 📦 Imports\n",
    "import pandas as pd\n",
    "import numpy as np\n",
    "import matplotlib.pyplot as plt\n",
    "import seaborn as sns\n",
    "from datetime import datetime\n",
    "import ipaddress\n",
    "\n",
    "# Set display options\n",
    "pd.set_option('display.max_columns', None)\n",
    "sns.set(style='whitegrid')\n"
   ]
  },
  {
   "cell_type": "code",
   "execution_count": null,
   "id": "7883178c",
   "metadata": {},
   "outputs": [
    {
     "ename": "NameError",
     "evalue": "name 'pd' is not defined",
     "output_type": "error",
     "traceback": [
      "\u001b[31m---------------------------------------------------------------------------\u001b[39m",
      "\u001b[31mNameError\u001b[39m                                 Traceback (most recent call last)",
      "\u001b[36mCell\u001b[39m\u001b[36m \u001b[39m\u001b[32mIn[2]\u001b[39m\u001b[32m, line 2\u001b[39m\n\u001b[32m      1\u001b[39m \u001b[38;5;66;03m# 📁 Load Data\u001b[39;00m\n\u001b[32m----> \u001b[39m\u001b[32m2\u001b[39m fraud_df = \u001b[43mpd\u001b[49m.read_csv(\u001b[33m'\u001b[39m\u001b[33m../data/Fraud_Data.csv\u001b[39m\u001b[33m'\u001b[39m)\n\u001b[32m      3\u001b[39m ip_df = pd.read_csv(\u001b[33m'\u001b[39m\u001b[33m../data/IpAddress_to_Country.csv\u001b[39m\u001b[33m'\u001b[39m)\n\u001b[32m      4\u001b[39m creditcard_df = pd.read_csv(\u001b[33m'\u001b[39m\u001b[33m../data/creditcard.csv\u001b[39m\u001b[33m'\u001b[39m)\n",
      "\u001b[31mNameError\u001b[39m: name 'pd' is not defined"
     ]
    }
   ],
   "source": [
    "# 📦 Imports\n",
    "import pandas as pd\n",
    "import numpy as np\n",
    "import matplotlib.pyplot as plt\n",
    "import seaborn as sns\n",
    "from datetime import datetime\n",
    "import ipaddress\n",
    "\n",
    "# Set display options\n",
    "pd.set_option('display.max_columns', None)\n",
    "sns.set(style='whitegrid')\n",
    "\n",
    "\n",
    "# 📁 Load Data\n",
    "fraud_df = pd.read_csv('../data/Fraud_Data.csv')\n",
    "ip_df = pd.read_csv('../data/IpAddress_to_Country.csv')\n",
    "creditcard_df = pd.read_csv('../data/creditcard.csv')\n",
    "\n",
    "fraud_df.head()\n"
   ]
  },
  {
   "cell_type": "code",
   "execution_count": null,
   "id": "a0efb9fb",
   "metadata": {},
   "outputs": [],
   "source": [
    "# 🔍 Data Cleaning & Preprocessing\n",
    "\n",
    "# Check missing values\n",
    "print(\"Fraud Dataset:\\n\", fraud_df.isnull().sum())\n",
    "print(\"\\nIP Dataset:\\n\", ip_df.isnull().sum())\n",
    "print(\"\\nCreditCard Dataset:\\n\", creditcard_df.isnull().sum())\n",
    "\n",
    "# Drop duplicates\n",
    "fraud_df.drop_duplicates(inplace=True)\n",
    "creditcard_df.drop_duplicates(inplace=True)\n"
   ]
  },
  {
   "cell_type": "code",
   "execution_count": null,
   "id": "96ab384d",
   "metadata": {},
   "outputs": [],
   "source": [
    "# 🌍 Convert IP to Country\n",
    "\n",
    "# Convert IP address to integer\n",
    "fraud_df['ip_integer'] = fraud_df['ip_address'].apply(lambda x: int(ipaddress.IPv4Address(x)))\n",
    "\n",
    "# Merge by checking if ip_integer is between lower and upper bounds\n",
    "def find_country(ip_int, ip_data):\n",
    "    row = ip_data[(ip_data['lower_bound_ip_address'] <= ip_int) & \n",
    "                  (ip_data['upper_bound_ip_address'] >= ip_int)]\n",
    "    return row['country'].values[0] if not row.empty else 'Unknown'\n",
    "\n",
    "fraud_df['country'] = fraud_df['ip_integer'].apply(lambda x: find_country(x, ip_df))\n",
    "fraud_df[['ip_address', 'country']].head()\n"
   ]
  },
  {
   "cell_type": "code",
   "execution_count": null,
   "id": "6acb283b",
   "metadata": {},
   "outputs": [],
   "source": [
    "# 🧠 Feature Engineering\n",
    "\n",
    "# Convert time columns\n",
    "fraud_df['signup_time'] = pd.to_datetime(fraud_df['signup_time'])\n",
    "fraud_df['purchase_time'] = pd.to_datetime(fraud_df['purchase_time'])\n",
    "\n",
    "# Feature: time since signup\n",
    "fraud_df['time_since_signup'] = (fraud_df['purchase_time'] - fraud_df['signup_time']).dt.total_seconds()\n",
    "\n",
    "# Feature: hour of day & day of week\n",
    "fraud_df['hour_of_day'] = fraud_df['purchase_time'].dt.hour\n",
    "fraud_df['day_of_week'] = fraud_df['purchase_time'].dt.dayofweek\n",
    "\n",
    "fraud_df[['time_since_signup', 'hour_of_day', 'day_of_week']].head()\n"
   ]
  },
  {
   "cell_type": "code",
   "execution_count": null,
   "id": "867b6f68",
   "metadata": {},
   "outputs": [],
   "source": [
    "# 📊 Exploratory Data Analysis (EDA)\n",
    "\n",
    "# Plot fraud vs non-fraud distribution\n",
    "sns.countplot(x='class', data=fraud_df)\n",
    "plt.title('Fraud Class Distribution')\n",
    "plt.show()\n",
    "\n",
    "# Age distribution by class\n",
    "sns.histplot(data=fraud_df, x='age', hue='class', kde=True, element='step')\n",
    "plt.title('Age Distribution by Fraud Class')\n",
    "plt.show()\n"
   ]
  },
  {
   "cell_type": "code",
   "execution_count": null,
   "id": "380b39b6",
   "metadata": {},
   "outputs": [],
   "source": [
    "# ⚖️ Class Imbalance Strategy\n",
    "\n",
    "fraud_distribution = fraud_df['class'].value_counts(normalize=True)\n",
    "print('Fraud Class Distribution (%):')\n",
    "print(fraud_distribution * 100)\n",
    "\n",
    "# Commentary\n",
    "print(\\\"\\\"\\\"We observe a strong class imbalance in the fraud dataset.\n",
    "We'll explore SMOTE (oversampling) and random undersampling in the modeling phase.\n",
    "Resampling will be applied to training data only to avoid data leakage.\\\"\\\"\\\")\n"
   ]
  }
 ],
 "metadata": {
  "kernelspec": {
   "display_name": "Python 3",
   "language": "python",
   "name": "python3"
  },
  "language_info": {
   "codemirror_mode": {
    "name": "ipython",
    "version": 3
   },
   "file_extension": ".py",
   "mimetype": "text/x-python",
   "name": "python",
   "nbconvert_exporter": "python",
   "pygments_lexer": "ipython3",
   "version": "3.11.8"
  }
 },
 "nbformat": 4,
 "nbformat_minor": 5
}
